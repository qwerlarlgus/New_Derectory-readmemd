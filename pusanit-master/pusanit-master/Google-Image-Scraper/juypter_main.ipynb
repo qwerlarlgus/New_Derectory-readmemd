{
 "cells": [
  {
   "cell_type": "markdown",
   "metadata": {},
   "source": [
    "<h3>Google Image Scrapper for Juypter Notebook</h3>"
   ]
  },
  {
   "cell_type": "code",
   "execution_count": 1,
   "metadata": {},
   "outputs": [
    {
     "name": "stdout",
     "output_type": "stream",
     "text": [
      "GoogleImageScraper Notification: Scraping for image link... Please wait.\n",
      "0. https://upload.wikimedia.org/wikipedia/commons/0/0f/Grosser_Panda.JPG\n",
      "1. https://static01.nyt.com/images/2020/08/16/reader-center/14-panda-baby/14-panda-baby-videoSixteenByNineJumbo1600.jpg\n",
      "2. https://ichef.bbci.co.uk/news/410/cpsprodpb/4FA0/production/_108848302_a0d15811-30d8-4a51-8dd3-ab45f3dbc387.jpg\n",
      "3. https://dynaimage.cdn.cnn.com/cnn/c_fill,g_auto,w_1200,h_675,ar_16:9/https%3A%2F%2Fcdn.cnn.com%2Fcnnnext%2Fdam%2Fassets%2F200227103054-red-panda-stock.jpg\n",
      "4. https://cdn.i-scmp.com/sites/default/files/d8/images/methode/2020/07/23/043002a8-cc95-11ea-9c1b-809cdd34beb3_image_hires_145910.jpg\n",
      "5. https://ichef.bbci.co.uk/news/1024/cpsprodpb/6C7D/production/_113837772_gettyimages-487432641.jpg\n",
      "6. https://video.cgtn.com/news/2020-08-18/Taipei-Zoo-s-baby-panda-opens-eyes-for-first-time-T3awjgj3AQ/video/a56f10f1c9944263a7addd63a0514548/a56f10f1c9944263a7addd63a0514548.jpg\n",
      "7. https://i.pinimg.com/originals/e0/3d/5b/e03d5b812b2734826f76960eca5b5541.jpg\n",
      "8. https://idsb.tmgrup.com.tr/ly/uploads/images/2020/06/08/39791.jpg\n",
      "9. https://thedcpost.com/wp-content/uploads/2019/10/giant-panda.jpg\n",
      "10. https://static.scientificamerican.com/sciam/cache/file/ACF0A7DC-14E3-4263-93F438F6DA8CE98A_source.jpg\n",
      "11. https://cdn.mos.cms.futurecdn.net/3n8tRry6fYg7sNyhFDPQwR.jpg\n",
      "12. https://media4.s-nbcnews.com/j/newscms/2016_36/1685951/ss-160826-twip-05_8cf6d4cb83758449fd400c7c3d71aa1f.fit-760w.jpg\n",
      "13. https://media.nature.com/lw800/magazine-assets/d41586-019-00301-y/d41586-019-00301-y_16427380.jpg\n",
      "14. https://www.ikea.com/kr/en/images/products/djungelskog-soft-toy-panda__0710188_PE727391_S5.JPG\n",
      "15. https://i.ytimg.com/vi/v_cpPMjE0vU/maxresdefault.jpg\n",
      "GoogleImageScraper Notification: Saving Image... Please wait.\n",
      "0 .Image saved at: C:\\Users\\user\\Desktop\\YOLO5\\Google-Image-Scraper-master\\animal\\panda0.jpg\n",
      "1 .Image saved at: C:\\Users\\user\\Desktop\\YOLO5\\Google-Image-Scraper-master\\animal\\panda1.jpg\n",
      "2 .Image saved at: C:\\Users\\user\\Desktop\\YOLO5\\Google-Image-Scraper-master\\animal\\panda2.jpg\n",
      "3 .Image saved at: C:\\Users\\user\\Desktop\\YOLO5\\Google-Image-Scraper-master\\animal\\panda3.jpg\n",
      "4 .Image saved at: C:\\Users\\user\\Desktop\\YOLO5\\Google-Image-Scraper-master\\animal\\panda4.jpg\n",
      "5 .Image saved at: C:\\Users\\user\\Desktop\\YOLO5\\Google-Image-Scraper-master\\animal\\panda5.jpg\n",
      "6 .Image saved at: C:\\Users\\user\\Desktop\\YOLO5\\Google-Image-Scraper-master\\animal\\panda6.jpg\n",
      "7 .Image saved at: C:\\Users\\user\\Desktop\\YOLO5\\Google-Image-Scraper-master\\animal\\panda7.jpg\n",
      "8 .Image saved at: C:\\Users\\user\\Desktop\\YOLO5\\Google-Image-Scraper-master\\animal\\panda8.jpg\n",
      "9 .Image saved at: C:\\Users\\user\\Desktop\\YOLO5\\Google-Image-Scraper-master\\animal\\panda9.jpg\n",
      "10 .Image saved at: C:\\Users\\user\\Desktop\\YOLO5\\Google-Image-Scraper-master\\animal\\panda10.jpg\n",
      "11 .Image saved at: C:\\Users\\user\\Desktop\\YOLO5\\Google-Image-Scraper-master\\animal\\panda11.jpg\n",
      "12 .Image saved at: C:\\Users\\user\\Desktop\\YOLO5\\Google-Image-Scraper-master\\animal\\panda12.jpg\n",
      "13 .Image saved at: C:\\Users\\user\\Desktop\\YOLO5\\Google-Image-Scraper-master\\animal\\panda13.jpg\n",
      "14 .Image saved at: C:\\Users\\user\\Desktop\\YOLO5\\Google-Image-Scraper-master\\animal\\panda14.jpg\n",
      "15 .Image saved at: C:\\Users\\user\\Desktop\\YOLO5\\Google-Image-Scraper-master\\animal\\panda15.jpg\n",
      "GoogleImageScraper Notification: Download Completed.\n",
      "GoogleImageScraper Notification: Scraping for image link... Please wait.\n",
      "0. https://upload.wikimedia.org/wikipedia/commons/4/49/Koala_climbing_tree.jpg\n",
      "1. https://cdn.mos.cms.futurecdn.net/T6qt4aqxTKp4n7HXyfx8yf-1200-80.jpg\n",
      "2. https://cdn.britannica.com/26/162626-050-3534626F/Koala.jpg\n",
      "3. https://idsb.tmgrup.com.tr/ly/uploads/images/2020/06/30/43665.JPG\n",
      "4. https://www.savethekoala.com/sites/savethekoala.com/files/uploads/koala_donate.jpg\n",
      "5. https://i.pinimg.com/originals/36/23/05/362305baa5c6b64ca568f8343eb24549.jpg\n",
      "6. https://static.euronews.com/articles/stories/04/77/97/48/1440x810_cmsv2_b9078666-38ab-5387-be8f-0cd84b8f2ec1-4779748.jpg\n",
      "7. https://video.cgtn.com/news/77416a4e3251544d336b7a4e3155444e79637a4e31457a6333566d54/video/d897b7d8420942b192bb2501aaa9ace5/d897b7d8420942b192bb2501aaa9ace5.jpg\n",
      "8. https://media-cldnry.s-nbcnews.com/image/upload/rockcms/2020-06/191030-koala-fire-mc-950-11195c.jpg\n",
      "9. https://ichef.bbci.co.uk/news/1024/branded_news/A4F2/production/_113162224_gettyimages-1185446524.jpg\n",
      "10. https://www.biocodexmicrobiotainstitute.com/sites/default/files/2020-07/GP_Actu_syndrome%20post%C3%A9rieur%20mouill%C3%A9%20koalas_icono.jpg\n",
      "11. https://ichef.bbci.co.uk/news/1024/cpsprodpb/B401/production/_85718064_000327593-1.jpg\n",
      "12. https://images.newscientist.com/wp-content/uploads/2019/08/21123132/gettyimages-519731334.jpg\n",
      "GoogleImageScraper Notification: Saving Image... Please wait.\n",
      "0 .Image saved at: C:\\Users\\user\\Desktop\\YOLO5\\Google-Image-Scraper-master\\animal\\koala0.jpg\n",
      "1 .Image saved at: C:\\Users\\user\\Desktop\\YOLO5\\Google-Image-Scraper-master\\animal\\koala1.jpg\n",
      "2 .Image saved at: C:\\Users\\user\\Desktop\\YOLO5\\Google-Image-Scraper-master\\animal\\koala2.jpg\n",
      "3 .Image saved at: C:\\Users\\user\\Desktop\\YOLO5\\Google-Image-Scraper-master\\animal\\koala3.jpg\n",
      "4 .Image saved at: C:\\Users\\user\\Desktop\\YOLO5\\Google-Image-Scraper-master\\animal\\koala4.jpg\n",
      "5 .Image saved at: C:\\Users\\user\\Desktop\\YOLO5\\Google-Image-Scraper-master\\animal\\koala5.jpg\n",
      "6 .Image saved at: C:\\Users\\user\\Desktop\\YOLO5\\Google-Image-Scraper-master\\animal\\koala6.jpg\n",
      "7 .Image saved at: C:\\Users\\user\\Desktop\\YOLO5\\Google-Image-Scraper-master\\animal\\koala7.jpg\n",
      "8 .Image saved at: C:\\Users\\user\\Desktop\\YOLO5\\Google-Image-Scraper-master\\animal\\koala8.jpg\n",
      "9 .Image saved at: C:\\Users\\user\\Desktop\\YOLO5\\Google-Image-Scraper-master\\animal\\koala9.jpg\n",
      "10 .Image saved at: C:\\Users\\user\\Desktop\\YOLO5\\Google-Image-Scraper-master\\animal\\koala10.jpg\n",
      "11 .Image saved at: C:\\Users\\user\\Desktop\\YOLO5\\Google-Image-Scraper-master\\animal\\koala11.jpg\n",
      "12 .Image saved at: C:\\Users\\user\\Desktop\\YOLO5\\Google-Image-Scraper-master\\animal\\koala12.jpg\n",
      "GoogleImageScraper Notification: Download Completed.\n"
     ]
    }
   ],
   "source": [
    "from GoogleImageScrapper import GoogleImageScraper\n",
    "import os\n",
    "import time\n",
    "\n",
    "sleep_between_interactions = 1\n",
    "webdriver_path = os.getcwd()+\"\\\\webdriver\\\\chromedriver.exe\"\n",
    "image_path = os.getcwd()+\"\\\\animal\"\n",
    "#image_path = os.getcwd()+\"\\\\photos\"\n",
    "#add new search key into array [\"cat\",\"t-shirt\",\"apple\",\"orange\",\"pear\",\"fish\"]\n",
    "search_keys= [\"panda\",\"koala\"]\n",
    "number_of_images = 20\n",
    "headless = False\n",
    "#min_resolution = (width,height)\n",
    "min_resolution=(0,0)\n",
    "#max_resolution = (width,height)\n",
    "max_resolution=(1920,1080)\n",
    "for search_key in search_keys:\n",
    "    image_scrapper = GoogleImageScraper(webdriver_path,image_path,search_key,number_of_images,headless,min_resolution,max_resolution)\n",
    "    image_urls = image_scrapper.find_image_urls()\n",
    "    image_scrapper.save_images(image_urls)\n",
    "    time.sleep(sleep_between_interactions)\n"
   ]
  },
  {
   "cell_type": "code",
   "execution_count": null,
   "metadata": {},
   "outputs": [],
   "source": []
  }
 ],
 "metadata": {
  "kernelspec": {
   "display_name": "Python 3",
   "language": "python",
   "name": "python3"
  },
  "language_info": {
   "codemirror_mode": {
    "name": "ipython",
    "version": 3
   },
   "file_extension": ".py",
   "mimetype": "text/x-python",
   "name": "python",
   "nbconvert_exporter": "python",
   "pygments_lexer": "ipython3",
   "version": "3.7.6"
  }
 },
 "nbformat": 4,
 "nbformat_minor": 4
}
