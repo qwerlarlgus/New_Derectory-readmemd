{
 "cells": [
  {
   "cell_type": "markdown",
   "metadata": {},
   "source": [
    "<h3>Google Image Scrapper for Juypter Notebook</h3>"
   ]
  },
  {
   "cell_type": "code",
   "execution_count": 1,
   "metadata": {},
   "outputs": [],
   "source": [
    "from GoogleImageScrapper import GoogleImageScraper\n",
    "import os\n",
    "import time\n",
    "\n",
    "sleep_between_interactions = 1\n",
    "webdriver_path = os.getcwd()+\".\\\\webdriver\\\\chromedriver.exe\"\n",
    "image_path = os.getcwd()+\".\\\\animal\""
   ]
  },
  {
   "cell_type": "code",
   "execution_count": 2,
   "metadata": {},
   "outputs": [
    {
     "name": "stdout",
     "output_type": "stream",
     "text": [
      "GoogleImageScraper Notification: Scraping for image link... Please wait.\n",
      "0. https://upload.wikimedia.org/wikipedia/commons/9/9f/Raccoon_climbing_in_tree_-_Cropped_and_color_corrected.jpg\n",
      "1. https://www.nrcm.org/wp-content/uploads/2018/03/raccoon-in-winter-2-South-China-Jayne-Winters.jpg\n",
      "2. https://www.nationalgeographic.com/content/dam/animals/thumbs/rights-exempt/mammals/r/raccoon_thumb.ngsversion.1485815402351.adapt.1900.1.JPG\n",
      "3. https://extension.umd.edu/sites/extension.umd.edu/files/resize/_images/programs/hgic/wildlife/raccoon-1905528_640-498x346.jpg\n",
      "4. https://audubonportland.org/wp-content/uploads/2019/03/Raccoon-by-Krystal-Hamlin.jpg\n",
      "5. https://ychef.files.bbci.co.uk/live/624x351/p089k4y6.jpg\n",
      "6. https://www.thesprucepets.com/thmb/_yrib2KGkS4VJSgCQEl59KPUPOU=/1885x1414/smart/filters:no_upscale()/GettyImages-135630198-5ba7d225c9e77c0050cff91b.jpg\n",
      "7. https://cdn.mos.cms.futurecdn.net/YYH9o4wmSXJfvbzRTq5BTY.jpg\n",
      "8. https://www.thespruce.com/thmb/2-sZRI3SbhswdqGeInF7AMTBS-U=/1415x1415/smart/filters:no_upscale()/153596483-57c789443df78c71b664e496.jpg\n",
      "9. https://static.scientificamerican.com/sciam/cache/file/0B4ED7B8-6C6A-4031-BEE1253D115FD0CC_source.jpg\n",
      "10. https://i.ytimg.com/vi/WZ2NbsU6lTI/maxresdefault.jpg\n",
      "11. https://cdn0.wideopenpets.com/wp-content/uploads/2019/08/Pet-Raccoons.png\n",
      "12. https://dynamicmedia.zuza.com/zz/m/original_/d/f/dfe3ba1b-3131-4553-ad14-744c1a76eb1d/RabiesRaccoon_Super_Portrait.jpg\n",
      "13. https://techcrunch.com/wp-content/uploads/2017/12/gettyimages-683842819.jpg\n",
      "14. https://upload.wikimedia.org/wikipedia/commons/e/ed/Raccoon_%28Procyon_lotor%29_2.jpg\n",
      "15. https://media.4-paws.org/6/5/f/8/65f85814a49b2f33cd5036a4e1f7de83eef17c95/VIER%20PFOTEN_2016-06-15_074-3303x2285.jpg\n",
      "16. https://m.dw.com/image/53420393_403.jpg\n",
      "17. https://media.npr.org/assets/img/2018/09/14/gettyimages-1032854500_custom-7f22f7cd65e8bfb64649ca53f807c96a88a12f37.jpg\n",
      "GoogleImageScraper Skip: Unable to get the link for this photo\n",
      "18. https://i.cbc.ca/1.2742257.1408570925!/fileImage/httpImage/raccoon-mom.jpg\n",
      "19. https://s.hdnux.com/photos/01/13/61/35/19863394/7/rawImage.jpg\n",
      "20. https://offloadmedia.feverup.com/secretnyc.co/wp-content/uploads/2019/02/10131638/ShowImage-1-1024x597.jpg\n",
      "21. https://dynaimage.cdn.cnn.com/cnn/c_fill,g_auto,w_1200,h_675,ar_16:9/https%3A%2F%2Fcdn.cnn.com%2Fcnnnext%2Fdam%2Fassets%2F190529121159-01-raccoon-dog-uk.jpg\n",
      "22. https://doorcountypulse.com/wp-content/uploads/2018/03/1-PP-3-9-18-Raccoon-at-cracked-corn.jpg\n",
      "GoogleImageScraper Notification: Saving Image... Please wait.\n",
      "0 .Image saved at: C:\\Users\\user\\Desktop\\Object_detection\\Google-Image-Scraper.\\animal\\raccoon0.jpg\n",
      "1 .Image saved at: C:\\Users\\user\\Desktop\\Object_detection\\Google-Image-Scraper.\\animal\\raccoon1.jpg\n",
      "2 .Image saved at: C:\\Users\\user\\Desktop\\Object_detection\\Google-Image-Scraper.\\animal\\raccoon2.jpg\n",
      "3 .Image saved at: C:\\Users\\user\\Desktop\\Object_detection\\Google-Image-Scraper.\\animal\\raccoon3.jpg\n",
      "4 .Image saved at: C:\\Users\\user\\Desktop\\Object_detection\\Google-Image-Scraper.\\animal\\raccoon4.jpg\n",
      "5 .Image saved at: C:\\Users\\user\\Desktop\\Object_detection\\Google-Image-Scraper.\\animal\\raccoon5.jpg\n",
      "6 .Image saved at: C:\\Users\\user\\Desktop\\Object_detection\\Google-Image-Scraper.\\animal\\raccoon6.jpg\n",
      "7 .Image saved at: C:\\Users\\user\\Desktop\\Object_detection\\Google-Image-Scraper.\\animal\\raccoon7.jpg\n",
      "8 .Image saved at: C:\\Users\\user\\Desktop\\Object_detection\\Google-Image-Scraper.\\animal\\raccoon8.jpg\n",
      "9 .Image saved at: C:\\Users\\user\\Desktop\\Object_detection\\Google-Image-Scraper.\\animal\\raccoon9.jpg\n",
      "10 .Image saved at: C:\\Users\\user\\Desktop\\Object_detection\\Google-Image-Scraper.\\animal\\raccoon10.jpg\n",
      "11 .Image saved at: C:\\Users\\user\\Desktop\\Object_detection\\Google-Image-Scraper.\\animal\\raccoon11.jpg\n",
      "12 .Image saved at: C:\\Users\\user\\Desktop\\Object_detection\\Google-Image-Scraper.\\animal\\raccoon12.jpg\n",
      "13 .Image saved at: C:\\Users\\user\\Desktop\\Object_detection\\Google-Image-Scraper.\\animal\\raccoon13.jpg\n",
      "14 .Image saved at: C:\\Users\\user\\Desktop\\Object_detection\\Google-Image-Scraper.\\animal\\raccoon14.jpg\n",
      "15 .Image saved at: C:\\Users\\user\\Desktop\\Object_detection\\Google-Image-Scraper.\\animal\\raccoon15.jpg\n",
      "16 .Image saved at: C:\\Users\\user\\Desktop\\Object_detection\\Google-Image-Scraper.\\animal\\raccoon16.jpg\n",
      "17 .Image saved at: C:\\Users\\user\\Desktop\\Object_detection\\Google-Image-Scraper.\\animal\\raccoon17.jpg\n",
      "18 .Image saved at: C:\\Users\\user\\Desktop\\Object_detection\\Google-Image-Scraper.\\animal\\raccoon18.jpg\n",
      "19 .Image saved at: C:\\Users\\user\\Desktop\\Object_detection\\Google-Image-Scraper.\\animal\\raccoon19.jpg\n",
      "20 .Image saved at: C:\\Users\\user\\Desktop\\Object_detection\\Google-Image-Scraper.\\animal\\raccoon20.jpg\n",
      "21 .Image saved at: C:\\Users\\user\\Desktop\\Object_detection\\Google-Image-Scraper.\\animal\\raccoon21.jpg\n",
      "22 .Image saved at: C:\\Users\\user\\Desktop\\Object_detection\\Google-Image-Scraper.\\animal\\raccoon22.jpg\n",
      "GoogleImageScraper Notification: Download Completed.\n"
     ]
    }
   ],
   "source": [
    "#image_path = os.getcwd()+\"\\\\photos\"\n",
    "#add new search key into array [\"cat\",\"t-shirt\",\"apple\",\"orange\",\"pear\",\"fish\"]\n",
    "#search_keys= [\"woodpecker\",\"owl\"]\n",
    "search_keys= [\"raccoon\"]\n",
    "number_of_images = 30\n",
    "headless = False\n",
    "#min_resolution = (width,height)\n",
    "min_resolution=(0,0)\n",
    "#max_resolution = (width,height)\n",
    "max_resolution=(2500,2500)\n",
    "for search_key in search_keys:\n",
    "    image_scrapper = GoogleImageScraper(webdriver_path,image_path,search_key,number_of_images,headless,min_resolution,max_resolution)\n",
    "    image_urls = image_scrapper.find_image_urls()\n",
    "    image_scrapper.save_images(image_urls)\n",
    "    time.sleep(sleep_between_interactions)"
   ]
  },
  {
   "cell_type": "code",
   "execution_count": null,
   "metadata": {},
   "outputs": [],
   "source": []
  }
 ],
 "metadata": {
  "kernelspec": {
   "display_name": "Python 3",
   "language": "python",
   "name": "python3"
  },
  "language_info": {
   "codemirror_mode": {
    "name": "ipython",
    "version": 3
   },
   "file_extension": ".py",
   "mimetype": "text/x-python",
   "name": "python",
   "nbconvert_exporter": "python",
   "pygments_lexer": "ipython3",
   "version": "3.7.6"
  }
 },
 "nbformat": 4,
 "nbformat_minor": 4
}
